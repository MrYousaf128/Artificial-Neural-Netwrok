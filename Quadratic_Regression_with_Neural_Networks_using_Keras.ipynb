{
  "nbformat": 4,
  "nbformat_minor": 0,
  "metadata": {
    "colab": {
      "provenance": [],
      "gpuType": "T4",
      "mount_file_id": "1Ad7YWBjz_U6CjPBiX-5uIpiBRlx4KfMH",
      "authorship_tag": "ABX9TyMohp2U/+pboBNRA9YTYO1i"
    },
    "kernelspec": {
      "name": "python3",
      "display_name": "Python 3"
    },
    "language_info": {
      "name": "python"
    },
    "accelerator": "GPU"
  },
  "cells": [
    {
      "cell_type": "code",
      "source": [
        "import numpy as np\n",
        "import keras\n",
        "\n",
        "from keras.models import Sequential\n",
        "from keras.layers import Dense\n",
        "from keras.optimizers import Adam\n",
        "from keras import regularizers\n",
        "\n",
        "model= Sequential()\n",
        "model.add(Dense(8, activation=\"relu\", kernel_regularizer=regularizers.l2(0.001), input_shape=(1,)))\n",
        "model.add(Dense(8, activation=\"relu\", kernel_regularizer=regularizers.l2(0.001)))\n",
        "model.add(Dense(1))\n",
        "model.compile(optimizer=Adam(), loss=\"mse\")\n",
        "x=np.random.random((10000,1))*100-50\n",
        "y=x**2\n",
        "\n",
        "model.fit(x,y,validation_split=0.2,epochs=3000, batch_size=256)"
      ],
      "metadata": {
        "id": "y1evmh_nyZlw"
      },
      "execution_count": null,
      "outputs": []
    },
    {
      "cell_type": "code",
      "source": [
        "print (x)"
      ],
      "metadata": {
        "id": "6SEcxhgORY-_"
      },
      "execution_count": null,
      "outputs": []
    }
  ]
}